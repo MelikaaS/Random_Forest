{
 "cells": [
  {
   "metadata": {},
   "cell_type": "markdown",
   "source": "# Seatel, WA Weather prediction with Random Forest method",
   "id": "c05500251fd9aeac"
  },
  {
   "metadata": {},
   "cell_type": "markdown",
   "source": "",
   "id": "92eaad7b8c9ae2a7"
  },
  {
   "metadata": {},
   "cell_type": "markdown",
   "source": "Import required libraries",
   "id": "69a7699a42cfb551"
  },
  {
   "cell_type": "code",
   "id": "initial_id",
   "metadata": {
    "collapsed": true,
    "ExecuteTime": {
     "end_time": "2024-08-31T04:41:15.520160Z",
     "start_time": "2024-08-31T04:41:14.478098Z"
    }
   },
   "source": [
    "import pandas as pd\n",
    "import numpy as np\n",
    "from sklearn.model_selection import train_test_split\n",
    "from sklearn.preprocessing import StandardScaler, LabelEncoder\n",
    "from sklearn.metrics import classification_report, confusion_matrix, accuracy_score\n",
    "import seaborn as sns\n",
    "from matplotlib import pyplot as plt\n"
   ],
   "outputs": [],
   "execution_count": 1
  },
  {
   "metadata": {},
   "cell_type": "markdown",
   "source": "## Import Data",
   "id": "ceba0d9e9aff4789"
  },
  {
   "metadata": {},
   "cell_type": "markdown",
   "source": "### Data Desciption",
   "id": "5604f53c682ca0ed"
  },
  {
   "metadata": {},
   "cell_type": "markdown",
   "source": [
    "| Column   | Description                                           |\n",
    "|----------|-------------------------------------------------------|\n",
    "| year     | 2016 for all data points                              |\n",
    "| month    | Month of the year as a number (1-12)                  |\n",
    "| day      | Day of the year as a number (1-31)                    |\n",
    "| week     | Day of the week as a character string (e.g., \"Monday\")|\n",
    "| temp_2   | Max temperature 2 days prior                          |\n",
    "| temp_1   | Max temperature 1 day prior                           |\n",
    "| average  | Historical average max temperature                    |\n",
    "| actual   | Max temperature measurement                           |\n",
    "| friend   | Friend’s prediction, a random number between 20 below and 20 above the average |\n",
    "\n"
   ],
   "id": "89e0896289445b31"
  },
  {
   "metadata": {
    "ExecuteTime": {
     "end_time": "2024-08-31T04:41:19.245435Z",
     "start_time": "2024-08-31T04:41:18.845299Z"
    }
   },
   "cell_type": "code",
   "source": [
    "df = pd.read_csv('temps.csv')\n",
    "\n",
    "\n",
    "df.drop(columns=['forecast_acc', 'forecast_noaa', 'forecast_under'], axis=1, inplace=True)\n",
    "df.head()\n"
   ],
   "id": "ed30cd9b26821b8b",
   "outputs": [
    {
     "data": {
      "text/plain": [
       "   year  month  day  week  temp_2  temp_1  average  actual  friend\n",
       "0  2016      1    1   Fri      45      45     45.6      45      29\n",
       "1  2016      1    2   Sat      44      45     45.7      44      61\n",
       "2  2016      1    3   Sun      45      44     45.8      41      56\n",
       "3  2016      1    4   Mon      44      41     45.9      40      53\n",
       "4  2016      1    5  Tues      41      40     46.0      44      41"
      ],
      "text/html": [
       "<div>\n",
       "<style scoped>\n",
       "    .dataframe tbody tr th:only-of-type {\n",
       "        vertical-align: middle;\n",
       "    }\n",
       "\n",
       "    .dataframe tbody tr th {\n",
       "        vertical-align: top;\n",
       "    }\n",
       "\n",
       "    .dataframe thead th {\n",
       "        text-align: right;\n",
       "    }\n",
       "</style>\n",
       "<table border=\"1\" class=\"dataframe\">\n",
       "  <thead>\n",
       "    <tr style=\"text-align: right;\">\n",
       "      <th></th>\n",
       "      <th>year</th>\n",
       "      <th>month</th>\n",
       "      <th>day</th>\n",
       "      <th>week</th>\n",
       "      <th>temp_2</th>\n",
       "      <th>temp_1</th>\n",
       "      <th>average</th>\n",
       "      <th>actual</th>\n",
       "      <th>friend</th>\n",
       "    </tr>\n",
       "  </thead>\n",
       "  <tbody>\n",
       "    <tr>\n",
       "      <th>0</th>\n",
       "      <td>2016</td>\n",
       "      <td>1</td>\n",
       "      <td>1</td>\n",
       "      <td>Fri</td>\n",
       "      <td>45</td>\n",
       "      <td>45</td>\n",
       "      <td>45.6</td>\n",
       "      <td>45</td>\n",
       "      <td>29</td>\n",
       "    </tr>\n",
       "    <tr>\n",
       "      <th>1</th>\n",
       "      <td>2016</td>\n",
       "      <td>1</td>\n",
       "      <td>2</td>\n",
       "      <td>Sat</td>\n",
       "      <td>44</td>\n",
       "      <td>45</td>\n",
       "      <td>45.7</td>\n",
       "      <td>44</td>\n",
       "      <td>61</td>\n",
       "    </tr>\n",
       "    <tr>\n",
       "      <th>2</th>\n",
       "      <td>2016</td>\n",
       "      <td>1</td>\n",
       "      <td>3</td>\n",
       "      <td>Sun</td>\n",
       "      <td>45</td>\n",
       "      <td>44</td>\n",
       "      <td>45.8</td>\n",
       "      <td>41</td>\n",
       "      <td>56</td>\n",
       "    </tr>\n",
       "    <tr>\n",
       "      <th>3</th>\n",
       "      <td>2016</td>\n",
       "      <td>1</td>\n",
       "      <td>4</td>\n",
       "      <td>Mon</td>\n",
       "      <td>44</td>\n",
       "      <td>41</td>\n",
       "      <td>45.9</td>\n",
       "      <td>40</td>\n",
       "      <td>53</td>\n",
       "    </tr>\n",
       "    <tr>\n",
       "      <th>4</th>\n",
       "      <td>2016</td>\n",
       "      <td>1</td>\n",
       "      <td>5</td>\n",
       "      <td>Tues</td>\n",
       "      <td>41</td>\n",
       "      <td>40</td>\n",
       "      <td>46.0</td>\n",
       "      <td>44</td>\n",
       "      <td>41</td>\n",
       "    </tr>\n",
       "  </tbody>\n",
       "</table>\n",
       "</div>"
      ]
     },
     "execution_count": 2,
     "metadata": {},
     "output_type": "execute_result"
    }
   ],
   "execution_count": 2
  },
  {
   "metadata": {},
   "cell_type": "markdown",
   "source": [
    "### Verify dataset for missing value\n",
    "- Another way to check for missing value in dataset is `df.notnull().sum()` ==> It returns the number of NotNull value in each column"
   ],
   "id": "f51aa9d625d34fd8"
  },
  {
   "metadata": {
    "ExecuteTime": {
     "end_time": "2024-08-31T04:41:21.834695Z",
     "start_time": "2024-08-31T04:41:21.776204Z"
    }
   },
   "cell_type": "code",
   "source": [
    "# summary of data frame\n",
    "df.info()\n",
    "print(f'The shape of the dataframe is : {df.shape}')\n",
    "\n",
    "# check dataframe for existence of null values\n",
    "df.isnull().sum()\n"
   ],
   "id": "d22804fce0b1fdd6",
   "outputs": [
    {
     "name": "stdout",
     "output_type": "stream",
     "text": [
      "<class 'pandas.core.frame.DataFrame'>\n",
      "RangeIndex: 348 entries, 0 to 347\n",
      "Data columns (total 9 columns):\n",
      " #   Column   Non-Null Count  Dtype  \n",
      "---  ------   --------------  -----  \n",
      " 0   year     348 non-null    int64  \n",
      " 1   month    348 non-null    int64  \n",
      " 2   day      348 non-null    int64  \n",
      " 3   week     348 non-null    object \n",
      " 4   temp_2   348 non-null    int64  \n",
      " 5   temp_1   348 non-null    int64  \n",
      " 6   average  348 non-null    float64\n",
      " 7   actual   348 non-null    int64  \n",
      " 8   friend   348 non-null    int64  \n",
      "dtypes: float64(1), int64(7), object(1)\n",
      "memory usage: 24.6+ KB\n",
      "The shape of the dataframe is : (348, 9)\n"
     ]
    },
    {
     "data": {
      "text/plain": [
       "year       0\n",
       "month      0\n",
       "day        0\n",
       "week       0\n",
       "temp_2     0\n",
       "temp_1     0\n",
       "average    0\n",
       "actual     0\n",
       "friend     0\n",
       "dtype: int64"
      ]
     },
     "execution_count": 3,
     "metadata": {},
     "output_type": "execute_result"
    }
   ],
   "execution_count": 3
  },
  {
   "metadata": {},
   "cell_type": "markdown",
   "source": "## Detect Anomalies",
   "id": "966ef72761941453"
  },
  {
   "metadata": {},
   "cell_type": "markdown",
   "source": [
    "### What is Anomaly?\n",
    "- Data point or pattern that significantly deviates from the expected or normal behavior. e.g. outliers"
   ],
   "id": "59a53fbff77e7202"
  },
  {
   "metadata": {},
   "cell_type": "markdown",
   "source": [
    "### Type of Anomalies\n",
    "#### Point Anomalies\n",
    "- A single data point that is significantly different from the rest of the data. e.g. temperature 100 centigrade\n",
    "\n",
    "#### Contextual Anomalies\n",
    "- Data points that are considered normal in one context but abnormal in another. For example, a high temperature might be normal in summer but an anomaly in winter.\n",
    "\n",
    "#### Collective Anomalies\n",
    "- A group of data points that, when considered together, form an anomaly, even though individual points might appear normal. For instance, a sudden, consistent rise in temperature readings over a short period might indicate an equipment malfunction."
   ],
   "id": "6376de0edb275553"
  },
  {
   "metadata": {},
   "cell_type": "markdown",
   "source": "",
   "id": "f975494abc4cdecc"
  },
  {
   "metadata": {
    "ExecuteTime": {
     "end_time": "2024-08-31T04:41:25.012692Z",
     "start_time": "2024-08-31T04:41:24.974443Z"
    }
   },
   "cell_type": "code",
   "source": [
    "# Describe statistic of each column\n",
    "df.describe()\n"
   ],
   "id": "11c02fe137868ef2",
   "outputs": [
    {
     "data": {
      "text/plain": [
       "         year       month         day      temp_2      temp_1     average  \\\n",
       "count   348.0  348.000000  348.000000  348.000000  348.000000  348.000000   \n",
       "mean   2016.0    6.477011   15.514368   62.652299   62.701149   59.760632   \n",
       "std       0.0    3.498380    8.772982   12.165398   12.120542   10.527306   \n",
       "min    2016.0    1.000000    1.000000   35.000000   35.000000   45.100000   \n",
       "25%    2016.0    3.000000    8.000000   54.000000   54.000000   49.975000   \n",
       "50%    2016.0    6.000000   15.000000   62.500000   62.500000   58.200000   \n",
       "75%    2016.0   10.000000   23.000000   71.000000   71.000000   69.025000   \n",
       "max    2016.0   12.000000   31.000000  117.000000  117.000000   77.400000   \n",
       "\n",
       "           actual      friend  \n",
       "count  348.000000  348.000000  \n",
       "mean    62.543103   60.034483  \n",
       "std     11.794146   15.626179  \n",
       "min     35.000000   28.000000  \n",
       "25%     54.000000   47.750000  \n",
       "50%     62.500000   60.000000  \n",
       "75%     71.000000   71.000000  \n",
       "max     92.000000   95.000000  "
      ],
      "text/html": [
       "<div>\n",
       "<style scoped>\n",
       "    .dataframe tbody tr th:only-of-type {\n",
       "        vertical-align: middle;\n",
       "    }\n",
       "\n",
       "    .dataframe tbody tr th {\n",
       "        vertical-align: top;\n",
       "    }\n",
       "\n",
       "    .dataframe thead th {\n",
       "        text-align: right;\n",
       "    }\n",
       "</style>\n",
       "<table border=\"1\" class=\"dataframe\">\n",
       "  <thead>\n",
       "    <tr style=\"text-align: right;\">\n",
       "      <th></th>\n",
       "      <th>year</th>\n",
       "      <th>month</th>\n",
       "      <th>day</th>\n",
       "      <th>temp_2</th>\n",
       "      <th>temp_1</th>\n",
       "      <th>average</th>\n",
       "      <th>actual</th>\n",
       "      <th>friend</th>\n",
       "    </tr>\n",
       "  </thead>\n",
       "  <tbody>\n",
       "    <tr>\n",
       "      <th>count</th>\n",
       "      <td>348.0</td>\n",
       "      <td>348.000000</td>\n",
       "      <td>348.000000</td>\n",
       "      <td>348.000000</td>\n",
       "      <td>348.000000</td>\n",
       "      <td>348.000000</td>\n",
       "      <td>348.000000</td>\n",
       "      <td>348.000000</td>\n",
       "    </tr>\n",
       "    <tr>\n",
       "      <th>mean</th>\n",
       "      <td>2016.0</td>\n",
       "      <td>6.477011</td>\n",
       "      <td>15.514368</td>\n",
       "      <td>62.652299</td>\n",
       "      <td>62.701149</td>\n",
       "      <td>59.760632</td>\n",
       "      <td>62.543103</td>\n",
       "      <td>60.034483</td>\n",
       "    </tr>\n",
       "    <tr>\n",
       "      <th>std</th>\n",
       "      <td>0.0</td>\n",
       "      <td>3.498380</td>\n",
       "      <td>8.772982</td>\n",
       "      <td>12.165398</td>\n",
       "      <td>12.120542</td>\n",
       "      <td>10.527306</td>\n",
       "      <td>11.794146</td>\n",
       "      <td>15.626179</td>\n",
       "    </tr>\n",
       "    <tr>\n",
       "      <th>min</th>\n",
       "      <td>2016.0</td>\n",
       "      <td>1.000000</td>\n",
       "      <td>1.000000</td>\n",
       "      <td>35.000000</td>\n",
       "      <td>35.000000</td>\n",
       "      <td>45.100000</td>\n",
       "      <td>35.000000</td>\n",
       "      <td>28.000000</td>\n",
       "    </tr>\n",
       "    <tr>\n",
       "      <th>25%</th>\n",
       "      <td>2016.0</td>\n",
       "      <td>3.000000</td>\n",
       "      <td>8.000000</td>\n",
       "      <td>54.000000</td>\n",
       "      <td>54.000000</td>\n",
       "      <td>49.975000</td>\n",
       "      <td>54.000000</td>\n",
       "      <td>47.750000</td>\n",
       "    </tr>\n",
       "    <tr>\n",
       "      <th>50%</th>\n",
       "      <td>2016.0</td>\n",
       "      <td>6.000000</td>\n",
       "      <td>15.000000</td>\n",
       "      <td>62.500000</td>\n",
       "      <td>62.500000</td>\n",
       "      <td>58.200000</td>\n",
       "      <td>62.500000</td>\n",
       "      <td>60.000000</td>\n",
       "    </tr>\n",
       "    <tr>\n",
       "      <th>75%</th>\n",
       "      <td>2016.0</td>\n",
       "      <td>10.000000</td>\n",
       "      <td>23.000000</td>\n",
       "      <td>71.000000</td>\n",
       "      <td>71.000000</td>\n",
       "      <td>69.025000</td>\n",
       "      <td>71.000000</td>\n",
       "      <td>71.000000</td>\n",
       "    </tr>\n",
       "    <tr>\n",
       "      <th>max</th>\n",
       "      <td>2016.0</td>\n",
       "      <td>12.000000</td>\n",
       "      <td>31.000000</td>\n",
       "      <td>117.000000</td>\n",
       "      <td>117.000000</td>\n",
       "      <td>77.400000</td>\n",
       "      <td>92.000000</td>\n",
       "      <td>95.000000</td>\n",
       "    </tr>\n",
       "  </tbody>\n",
       "</table>\n",
       "</div>"
      ]
     },
     "execution_count": 4,
     "metadata": {},
     "output_type": "execute_result"
    }
   ],
   "execution_count": 4
  },
  {
   "metadata": {},
   "cell_type": "markdown",
   "source": [
    "### Anomaly is detected\n",
    "- temp_1 and temp_2 max values are out of range for temperature and too higher than 75% and detected as anomaly\n",
    "- In actual and friend columns max value is too high and should be considered as anomaly.\n",
    "\n",
    "### next step\n",
    "- Use visual plot like box plot to verify outliers"
   ],
   "id": "19c85aa4f2bdfc7f"
  },
  {
   "metadata": {},
   "cell_type": "markdown",
   "source": "## Visual Plot for verifying  outliers",
   "id": "7e61ac5aede38aec"
  },
  {
   "metadata": {},
   "cell_type": "markdown",
   "source": "### Box Plot to identify outliers",
   "id": "cbf1fccdd299dbbe"
  },
  {
   "metadata": {
    "ExecuteTime": {
     "end_time": "2024-08-31T04:41:27.742519Z",
     "start_time": "2024-08-31T04:41:27.101381Z"
    }
   },
   "cell_type": "code",
   "source": [
    "# create figure with one row and 2 columns \n",
    "fig, (ax1,ax2) = plt.subplots(nrows=1, ncols=2, figsize=(8,8))\n",
    "\n",
    "# detect outlier in temp_1\n",
    "sns.boxplot(y=df['temp_1'], ax=ax1)\n",
    "ax1.set_title('Box plot of temp_1')\n",
    "\n",
    "# detect outliers in temp_2\n",
    "sns.boxplot(y=df['temp_2'], ax=ax2)\n",
    "ax2.set_title('Box plot of temp_2')\n",
    "\n",
    "\n",
    "plt.show()"
   ],
   "id": "1f5a16f61391dfa5",
   "outputs": [
    {
     "data": {
      "text/plain": [
       "<Figure size 800x800 with 2 Axes>"
      ],
      "image/png": "[encoded data removed]"
     },
     "metadata": {},
     "output_type": "display_data"
    }
   ],
   "execution_count": 5
  },
  {
   "metadata": {},
   "cell_type": "markdown",
   "source": "Remove outliers",
   "id": "a6bfc318a1585733"
  },
  {
   "metadata": {
    "ExecuteTime": {
     "end_time": "2024-08-31T06:22:40.039658Z",
     "start_time": "2024-08-31T06:22:40.025601Z"
    }
   },
   "cell_type": "code",
   "source": [
    "# Print the outliers\n",
    "print(df.loc[df['temp_1'] == 117])\n",
    "print(df.loc[df['temp_2'] == 117])\n",
    "\n",
    "# Select Outliers to drop\n",
    "temp1_indices_to_drop = df.index[df['temp_1']==117]\n",
    "temp2_indices_to_drop = df.index[df['temp_2'] == 117]\n",
    "\n",
    "# Drop outliers\n",
    "df = df.drop(temp1_indices_to_drop)\n",
    "df = df.drop(temp2_indices_to_drop)\n",
    "\n",
    "# Check shape of the dataframe\n",
    "df.shape\n"
   ],
   "id": "271654a2ecb84dd8",
   "outputs": [
    {
     "name": "stdout",
     "output_type": "stream",
     "text": [
      "Empty DataFrame\n",
      "Columns: [year, month, day, week, temp_2, temp_1, average, actual, friend]\n",
      "Index: []\n",
      "Empty DataFrame\n",
      "Columns: [year, month, day, week, temp_2, temp_1, average, actual, friend]\n",
      "Index: []\n"
     ]
    },
    {
     "data": {
      "text/plain": [
       "(346, 9)"
      ]
     },
     "execution_count": 35,
     "metadata": {},
     "output_type": "execute_result"
    }
   ],
   "execution_count": 35
  },
  {
   "metadata": {},
   "cell_type": "markdown",
   "source": "",
   "id": "f571f71c331d77db"
  },
  {
   "metadata": {},
   "cell_type": "markdown",
   "source": [
    "### Line Graph \n",
    "Use Line Graph to display temperature over time\n",
    "Outliers are dropped"
   ],
   "id": "74cfd349f2bef21a"
  },
  {
   "metadata": {},
   "cell_type": "markdown",
   "source": "",
   "id": "dcf7d1b6555d93cf"
  },
  {
   "metadata": {
    "ExecuteTime": {
     "end_time": "2024-08-31T06:22:47.225987Z",
     "start_time": "2024-08-31T06:22:46.370290Z"
    }
   },
   "cell_type": "code",
   "source": [
    "# creat figure with one row and four columns \n",
    "fig, (axes1,axes2,axes3,axes4)= plt.subplots(nrows=1, ncols=4, figsize=(20,10))\n",
    "\n",
    "# line graph plot to show temp_1 over month\n",
    "axes1.plot(df['month'], df['temp_1'], data=df)\n",
    "# set x-axis label to month names\n",
    "axes1.set_xticks(ticks=range(1,13), labels=['Jan', 'Feb', 'Mar', 'Apr', 'May', 'Jun', 'Jul', 'Aug', 'Sep', 'Oct', 'Nov', 'Dec'])\n",
    "axes1.set_title('temp_1 over months of year')\n",
    "\n",
    "# line graph plot to show temp_2 over month\n",
    "axes2.plot(df['month'], df['temp_2'], data=df)\n",
    "axes2.set_xticks(ticks=range(1,13), labels = ['Jan', 'Feb', 'Mar', 'Apr', 'May', 'Jun', 'Jul', 'Aug', 'Sep', 'Oct', 'Nov', 'Dec'])\n",
    "axes2.set_title('temp_2 over months of year')\n",
    "\n",
    "# line graph plot to show friend's temperature prediction over month\n",
    "axes3.plot(df['month'], df['friend'], data=df)\n",
    "axes3.set_xticks(ticks=range(1,13), labels=['Jan', 'Feb', 'Mar', 'Apr', 'May', 'Jun', 'Jul', 'Aug', 'Sep', 'Oct', 'Nov', 'Dec'])\n",
    "axes3.set_title('friend over months of year')\n",
    "\n",
    "# line graph plot to show average temperature prediction over month\n",
    "axes4.plot(df['month'], df['average'], data=df)\n",
    "axes4.set_xticks(ticks=range(1,13), labels=['Jan', 'Feb', 'Mar', 'Apr', 'May', 'Jun', 'Jul', 'Aug', 'Sep', 'Oct', 'Nov', 'Dec'])\n",
    "axes4.set_title('average over months of year')\n",
    "plt.show()\n",
    "  \n",
    "\n"
   ],
   "id": "259a52c077c88edf",
   "outputs": [
    {
     "data": {
      "text/plain": [
       "<Figure size 2000x1000 with 4 Axes>"
      ],
      "image/png": "[encoded data removed]"
     },
     "metadata": {},
     "output_type": "display_data"
    }
   ],
   "execution_count": 36
  },
  {
   "metadata": {},
   "cell_type": "markdown",
   "source": "",
   "id": "6dc10e8713c33527"
  },
  {
   "metadata": {},
   "cell_type": "markdown",
   "source": "### Encoding columns with object data type",
   "id": "81aa7897732b62ea"
  },
  {
   "metadata": {
    "ExecuteTime": {
     "end_time": "2024-08-31T06:23:23.981827Z",
     "start_time": "2024-08-31T06:23:23.967445Z"
    }
   },
   "cell_type": "code",
   "source": [
    "# Initialize LabelEncoder to encode object features\n",
    "encoder = LabelEncoder()\n",
    "\n",
    "# fit encoder on 'week' feature\n",
    "df['week'] = encoder.fit_transform(df['week'])\n",
    "\n",
    "'''\n",
    "'0' : Friday\n",
    "'1' : Monday\n",
    "'2' : Saturday\n",
    "'3' : Sunday\n",
    "'4' : Thursday\n",
    "'5' : Tuesday\n",
    "'6' : Wednesday\n",
    "'''\n",
    "\n",
    "df.head()"
   ],
   "id": "4b8ec4df943c171c",
   "outputs": [
    {
     "data": {
      "text/plain": [
       "   year  month  day  week  temp_2  temp_1  average  actual  friend\n",
       "0  2016      1    1     0      45      45     45.6      45      29\n",
       "1  2016      1    2     2      44      45     45.7      44      61\n",
       "2  2016      1    3     3      45      44     45.8      41      56\n",
       "3  2016      1    4     1      44      41     45.9      40      53\n",
       "4  2016      1    5     5      41      40     46.0      44      41"
      ],
      "text/html": [
       "<div>\n",
       "<style scoped>\n",
       "    .dataframe tbody tr th:only-of-type {\n",
       "        vertical-align: middle;\n",
       "    }\n",
       "\n",
       "    .dataframe tbody tr th {\n",
       "        vertical-align: top;\n",
       "    }\n",
       "\n",
       "    .dataframe thead th {\n",
       "        text-align: right;\n",
       "    }\n",
       "</style>\n",
       "<table border=\"1\" class=\"dataframe\">\n",
       "  <thead>\n",
       "    <tr style=\"text-align: right;\">\n",
       "      <th></th>\n",
       "      <th>year</th>\n",
       "      <th>month</th>\n",
       "      <th>day</th>\n",
       "      <th>week</th>\n",
       "      <th>temp_2</th>\n",
       "      <th>temp_1</th>\n",
       "      <th>average</th>\n",
       "      <th>actual</th>\n",
       "      <th>friend</th>\n",
       "    </tr>\n",
       "  </thead>\n",
       "  <tbody>\n",
       "    <tr>\n",
       "      <th>0</th>\n",
       "      <td>2016</td>\n",
       "      <td>1</td>\n",
       "      <td>1</td>\n",
       "      <td>0</td>\n",
       "      <td>45</td>\n",
       "      <td>45</td>\n",
       "      <td>45.6</td>\n",
       "      <td>45</td>\n",
       "      <td>29</td>\n",
       "    </tr>\n",
       "    <tr>\n",
       "      <th>1</th>\n",
       "      <td>2016</td>\n",
       "      <td>1</td>\n",
       "      <td>2</td>\n",
       "      <td>2</td>\n",
       "      <td>44</td>\n",
       "      <td>45</td>\n",
       "      <td>45.7</td>\n",
       "      <td>44</td>\n",
       "      <td>61</td>\n",
       "    </tr>\n",
       "    <tr>\n",
       "      <th>2</th>\n",
       "      <td>2016</td>\n",
       "      <td>1</td>\n",
       "      <td>3</td>\n",
       "      <td>3</td>\n",
       "      <td>45</td>\n",
       "      <td>44</td>\n",
       "      <td>45.8</td>\n",
       "      <td>41</td>\n",
       "      <td>56</td>\n",
       "    </tr>\n",
       "    <tr>\n",
       "      <th>3</th>\n",
       "      <td>2016</td>\n",
       "      <td>1</td>\n",
       "      <td>4</td>\n",
       "      <td>1</td>\n",
       "      <td>44</td>\n",
       "      <td>41</td>\n",
       "      <td>45.9</td>\n",
       "      <td>40</td>\n",
       "      <td>53</td>\n",
       "    </tr>\n",
       "    <tr>\n",
       "      <th>4</th>\n",
       "      <td>2016</td>\n",
       "      <td>1</td>\n",
       "      <td>5</td>\n",
       "      <td>5</td>\n",
       "      <td>41</td>\n",
       "      <td>40</td>\n",
       "      <td>46.0</td>\n",
       "      <td>44</td>\n",
       "      <td>41</td>\n",
       "    </tr>\n",
       "  </tbody>\n",
       "</table>\n",
       "</div>"
      ]
     },
     "execution_count": 37,
     "metadata": {},
     "output_type": "execute_result"
    }
   ],
   "execution_count": 37
  },
  {
   "metadata": {},
   "cell_type": "markdown",
   "source": "## Separate data into features and target",
   "id": "f3aaad2fd6dba0cc"
  },
  {
   "metadata": {
    "ExecuteTime": {
     "end_time": "2024-08-31T06:23:31.540359Z",
     "start_time": "2024-08-31T06:23:31.532047Z"
    }
   },
   "cell_type": "code",
   "source": [
    "# extract target value and convert to array\n",
    "target = np.array(df['actual'])\n",
    "\n",
    "# drop target value from features\n",
    "features = df.drop(['actual'], axis=1)\n",
    "\n",
    "# saving features name for later use\n",
    "features_columns = list(features.columns)\n",
    "\n",
    "\n",
    "#convert features column to array \n",
    "features = np.array(features)\n",
    "\n",
    "print(f'Features shape= {features.shape}')\n",
    "print(f'Target value shapes= {target.shape}')"
   ],
   "id": "c1fc20fedd6c9452",
   "outputs": [
    {
     "name": "stdout",
     "output_type": "stream",
     "text": [
      "Features shape= (346, 8)\n",
      "Target value shapes= (346,)\n"
     ]
    }
   ],
   "execution_count": 38
  },
  {
   "metadata": {},
   "cell_type": "markdown",
   "source": "## Split data into train and test",
   "id": "4d6b32d6ea99a7c3"
  },
  {
   "metadata": {
    "ExecuteTime": {
     "end_time": "2024-08-31T18:47:55.138982Z",
     "start_time": "2024-08-31T18:47:55.132050Z"
    }
   },
   "cell_type": "code",
   "source": [
    "x_train, x_test, y_train, y_test = train_test_split(features, target, random_state=10, test_size=0.25)\n",
    "\n",
    "print(f'x_train shape = {x_train.shape}')\n",
    "print(f'x_test shape = {x_test.shape}')"
   ],
   "id": "baacdd74b16452a1",
   "outputs": [
    {
     "name": "stdout",
     "output_type": "stream",
     "text": [
      "x_train shape = (259, 8)\n",
      "x_test shape = (87, 8)\n"
     ]
    }
   ],
   "execution_count": 42
  },
  {
   "metadata": {},
   "cell_type": "markdown",
   "source": "### Calculate the BaseLine Error",
   "id": "59a4198c5e370d9e"
  },
  {
   "metadata": {
    "ExecuteTime": {
     "end_time": "2024-08-31T18:47:59.050644Z",
     "start_time": "2024-08-31T18:47:59.047746Z"
    }
   },
   "cell_type": "code",
   "source": "",
   "id": "98ceb37d4aea4d01",
   "outputs": [],
   "execution_count": 42
  }
 ],
 "metadata": {
  "kernelspec": {
   "display_name": "Python 3",
   "language": "python",
   "name": "python3"
  },
  "language_info": {
   "codemirror_mode": {
    "name": "ipython",
    "version": 2
   },
   "file_extension": ".py",
   "mimetype": "text/x-python",
   "name": "python",
   "nbconvert_exporter": "python",
   "pygments_lexer": "ipython2",
   "version": "2.7.6"
  }
 },
 "nbformat": 4,
 "nbformat_minor": 5
}
